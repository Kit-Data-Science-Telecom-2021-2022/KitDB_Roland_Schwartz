{
 "cells": [
  {
   "cell_type": "markdown",
   "metadata": {},
   "source": [
    "# Projet 4"
   ]
  },
  {
   "cell_type": "code",
   "execution_count": 43,
   "metadata": {},
   "outputs": [],
   "source": [
    "import requests\n",
    "from bs4 import BeautifulSoup"
   ]
  },
  {
   "cell_type": "markdown",
   "metadata": {},
   "source": [
    "Ecrire une fonction `get_prices_from_url()` qui extrait des informations à partir des 2 pages ci-dessous.\n",
    "\n",
    "Exemple `URL_PAGE2` doit retourner :\n",
    "\n",
    "<pre>{'Personal': {'price': '$5', 'storage': '1GB', 'databases': 1},\n",
    "  'Small Business': {'price': '$25', 'storage': '10GB', 'databases': 5},\n",
    "  'Enterprise': {'price': '$45', 'storage': '100GB', 'databases': 25}}\n",
    "</pre>"
   ]
  },
  {
   "cell_type": "code",
   "execution_count": 44,
   "metadata": {},
   "outputs": [
    {
     "name": "stdout",
     "output_type": "stream",
     "text": [
      "dico prix 2 : {'Personal': {'price': '$5', 'storage': '1GB', 'databases': 1}, 'Small Business': {'price': '$25', 'storage': '10GB', 'databases': 5}, 'Enterprise': {'price': '$45', 'storage': '100GB', 'databases': 25}} \n",
      "\n",
      " dico prix 3 : {'Personal': {'price': '$5', 'storage': '1GB', 'databases': 1}, 'Small Business': {'price': '$25', 'storage': '10GB', 'databases': 5}, 'Enterprise': {'price': '$45', 'storage': '100GB', 'databases': 25}, 'Privilege': {'price': '$99', 'storage': '1TB', 'databases': 100}}\n"
     ]
    }
   ],
   "source": [
    "URL_PAGE2 = \"https://kim.fspot.org/cours/page2.html\"\n",
    "URL_PAGE3 = \"https://kim.fspot.org/cours/page3.html\"\n",
    "\n",
    "def get_prices_from_url(url):\n",
    "    \n",
    "    \n",
    "    r = requests.get(url)\n",
    "    content = r.content.decode('utf-8')\n",
    "    soup = BeautifulSoup(content)    \n",
    "    \n",
    "    prices ={\n",
    "            h2tag.find('h2').text:{            \n",
    "                'price': h2tag.find('span', attrs={'class': 'pricing-table-price'}).text.split()[0],\n",
    "                'storage': h2tag.findAll('li')[3].text.split()[0],\n",
    "                'databases': int(h2tag.findAll('li')[4].text.split()[0])            \n",
    "                } for h2tag in soup.findAll('div', attrs={'class': 'pricing-table'})\n",
    "            }\n",
    "    \n",
    "    \n",
    "    return prices\n",
    "\n",
    "prices2 = get_prices_from_url(URL_PAGE2)\n",
    "prices3 = get_prices_from_url(URL_PAGE3)\n",
    "print(f'dico prix 2 : {prices2} \\n\\n dico prix 3 : {prices3}') # test fonction"
   ]
  },
  {
   "cell_type": "code",
   "execution_count": null,
   "metadata": {},
   "outputs": [],
   "source": []
  },
  {
   "cell_type": "code",
   "execution_count": null,
   "metadata": {},
   "outputs": [],
   "source": []
  },
  {
   "cell_type": "markdown",
   "metadata": {},
   "source": [
    "Ecrire une fonction qui extrait des informations sur une bière de beowulf.\n",
    "\n",
    "Exemple d'URL: https://www.beerwulf.com/fr-fr/p/bieres/melusine-bio.33 \n",
    "\n",
    "La fonction doit retourner :\n",
    "<pre>\n",
    "{'name': 'Mélusine Bio', 'note': 70, 'price': 38.99, 'volume': 33}\n",
    "</pre>"
   ]
  },
  {
   "cell_type": "code",
   "execution_count": 45,
   "metadata": {},
   "outputs": [],
   "source": [
    "def extract_beer_infos(url):\n",
    "\n",
    "    r = requests.get(url)\n",
    "    content = r.content.decode('utf-8')\n",
    "    soup = BeautifulSoup(content)\n",
    "    \n",
    "    infos = {\n",
    "        'name': soup.find('h1').text,\n",
    "        'note': int(soup.find('div', attrs={'class': 'stars'}).attrs['data-percent']),\n",
    "        'price': float(soup.find('span', attrs={'class': 'price'}).text.split()[0].replace(',','.')),\n",
    "        'volume': int(soup.find('dd', attrs={'class': 'small-6 medium-9 columns js-beer-volume'}).attrs['data-volume'].split()[0]),\n",
    "        }\n",
    "        \n",
    "    return infos"
   ]
  },
  {
   "cell_type": "code",
   "execution_count": 46,
   "metadata": {},
   "outputs": [
    {
     "data": {
      "text/plain": [
       "{'name': 'Mélusine Bio', 'note': 70, 'price': 38.99, 'volume': 33}"
      ]
     },
     "execution_count": 46,
     "metadata": {},
     "output_type": "execute_result"
    }
   ],
   "source": [
    "extract_beer_infos(\"https://www.beerwulf.com/fr-fr/p/bieres/melusine-bio.33\")"
   ]
  },
  {
   "cell_type": "markdown",
   "metadata": {},
   "source": [
    "Cette URL retourne un JSON avec une liste de bières :"
   ]
  },
  {
   "cell_type": "code",
   "execution_count": 47,
   "metadata": {},
   "outputs": [],
   "source": [
    "URL_BEERLIST_FRANCE = \"https://www.beerwulf.com/fr-FR/api/search/searchProducts?country=France&container=Bouteille\""
   ]
  },
  {
   "cell_type": "markdown",
   "metadata": {},
   "source": [
    "Ecrire une fonction qui prend l'argument cet URL retourne les informations sur une liste de bière via l'API de beowulf.\n",
    "\n",
    "Cette fonction doit retourner la liste des informations obtenues par la fonction `extract_beer_infos()` définie ci-dessus.\n",
    "\n",
    "Chercher comment optimiser cette fonction en utilisant multiprocessing.Pool pour paralléliser les accès web.\n",
    "\n",
    "Exemple de retour :\n",
    "\n",
    "<pre>[{'name': 'Gallia East IPA', 'note': 80, 'price': 42.99, 'volume': 33},\n",
    "    {'name': 'La Lager Sans Gluten de Vézelay', 'note': 60, 'price': 38.99, 'volume': 25},\n",
    "    {'name': 'Brasserie De Sutter Brin de Folie', 'note': 70, 'price': 44.99, 'volume': 33},\n",
    "    {'name': 'La Cristal IPA du Mont Blanc', 'note': 70, 'price': 44.99, 'volume': 33},\n",
    "    {'name': 'Mélusine Bio', 'note': 70, 'price': 38.99, 'volume': 33},\n",
    "    {'name': 'La Parisienne Le Titi Parisien', 'note': 70, 'price': 38.99, 'volume': 33},\n",
    "    {'name': 'Gallia Session IPA', 'note': 70, 'price': 42.99, 'volume': 33},\n",
    "    {'name': 'Ninkasi Brut IPA', 'note': 70, 'price': 44.99, 'volume': 33},\n",
    "    {'name': 'Pietra', 'note': 60, 'price': 38.99, 'volume': 33},\n",
    "    {'name': 'Desperados', 'note': 60, 'price': 35.99, 'volume': 33},\n",
    "    {'name': 'Gallia West IPA', 'note': 70, 'price': 42.99, 'volume': 33}]\n",
    "</pre>"
   ]
  },
  {
   "cell_type": "code",
   "execution_count": 48,
   "metadata": {
    "scrolled": false
   },
   "outputs": [
    {
     "name": "stdout",
     "output_type": "stream",
     "text": [
      "[{'name': 'Gallia East IPA', 'note': 80, 'price': 42.99, 'volume': 33}, {'name': 'La Lager Sans Gluten de Vézelay', 'note': 60, 'price': 38.99, 'volume': 25}, {'name': 'Brasserie De Sutter Brin de Folie', 'note': 70, 'price': 44.99, 'volume': 33}, {'name': 'La Cristal IPA du Mont Blanc', 'note': 70, 'price': 44.99, 'volume': 33}, {'name': 'Mélusine Bio', 'note': 70, 'price': 38.99, 'volume': 33}, {'name': 'La Parisienne Le Titi Parisien', 'note': 70, 'price': 38.99, 'volume': 33}, {'name': 'Gallia Session IPA', 'note': 70, 'price': 42.99, 'volume': 33}, {'name': 'Ninkasi Brut IPA', 'note': 70, 'price': 44.99, 'volume': 33}, {'name': 'Pietra', 'note': 60, 'price': 38.99, 'volume': 33}, {'name': 'Desperados', 'note': 60, 'price': 35.99, 'volume': 33}, {'name': 'Gallia West IPA', 'note': 70, 'price': 42.99, 'volume': 33}]\n"
     ]
    }
   ],
   "source": [
    "from multiprocess import Pool\n",
    "\n",
    "def extract_beer_list_infos(url):\n",
    "    # Collecter les pages de bières à partir du JSON\n",
    "    \n",
    "    r = requests.get(url)\n",
    "    data = r.json()\n",
    "    \n",
    "    beer_pages = []\n",
    "    for dataBeer in data['items']:\n",
    "        beer_pages.append(\"https://www.beerwulf.com\"+dataBeer['contentReference'])\n",
    "            \n",
    "    # Sequential version (slow):\n",
    "    beers = []\n",
    "    \n",
    "    for url in beer_pages:\n",
    "        beers.append(extract_beer_infos(url))\n",
    "\n",
    "    \"\"\"\n",
    "    # Parallel version (faster):\n",
    "    beers = []\n",
    "    \n",
    "    \n",
    "    with Pool() as p:\n",
    "        print(f'pool defined with {p} Processes')\n",
    "        print(requests)\n",
    "        beers = p.map(extract_beer_infos, beer_pages)\n",
    "        \n",
    "    \"\"\"\n",
    "            \n",
    "    return beers\n",
    "\n",
    "beers = extract_beer_list_infos(URL_BEERLIST_FRANCE)\n",
    "print(beers)"
   ]
  },
  {
   "cell_type": "code",
   "execution_count": 49,
   "metadata": {},
   "outputs": [],
   "source": [
    "import unittest\n",
    "\n",
    "class Lesson4Tests(unittest.TestCase):\n",
    "    def test_01_get_prices_from_url_page2(self):\n",
    "        prices = get_prices_from_url(URL_PAGE2)\n",
    "        # We should have found 3 products:\n",
    "        self.assertIsInstance(prices, dict)\n",
    "        self.assertEqual(len(prices), 3)\n",
    "        self.assertIn('Personal', prices)\n",
    "        self.assertIn('Small Business', prices)\n",
    "        self.assertIn('Enterprise', prices)\n",
    "        \n",
    "        personal = prices['Personal']\n",
    "        self.assertIn('price', personal)\n",
    "        self.assertIn('storage', personal)\n",
    "        self.assertIn('databases', personal)\n",
    "        self.assertEqual(personal['price'], '$5')\n",
    "        self.assertEqual(personal['storage'], '1GB')\n",
    "        self.assertEqual(personal['databases'], 1)\n",
    "        \n",
    "    def test_02_get_prices_from_url_page3(self):\n",
    "        prices = get_prices_from_url(URL_PAGE3)\n",
    "        self.assertIsInstance(prices, dict)\n",
    "        self.assertEqual(len(prices), 4)\n",
    "        self.assertEqual(\n",
    "            prices['Privilege'],\n",
    "            {'databases': 100, 'price': '$99', 'storage': '1TB'}\n",
    "        )\n",
    "    \n",
    "    def test_03_extract_beer_list_infos(self):\n",
    "        infos = extract_beer_list_infos(URL_BEERLIST_FRANCE)\n",
    "        # We should have 11 French beers:\n",
    "        self.assertIsInstance(infos, list)\n",
    "        self.assertEqual(len(infos), 11)\n",
    "        # All of them are 25cl or 33cl:\n",
    "        for beer in infos:\n",
    "            self.assertIn(beer['volume'], [25, 33])\n",
    "\n",
    "            \n",
    "def run_tests():\n",
    "    test_suite = unittest.makeSuite(Lesson4Tests)\n",
    "    runner = unittest.TextTestRunner(verbosity=2)\n",
    "    runner.run(test_suite)"
   ]
  },
  {
   "cell_type": "code",
   "execution_count": 50,
   "metadata": {
    "scrolled": false
   },
   "outputs": [
    {
     "name": "stderr",
     "output_type": "stream",
     "text": [
      "test_01_get_prices_from_url_page2 (__main__.Lesson4Tests) ... ok\n",
      "test_02_get_prices_from_url_page3 (__main__.Lesson4Tests) ... ok\n",
      "test_03_extract_beer_list_infos (__main__.Lesson4Tests) ... ok\n",
      "\n",
      "----------------------------------------------------------------------\n",
      "Ran 3 tests in 2.432s\n",
      "\n",
      "OK\n"
     ]
    }
   ],
   "source": [
    "if __name__ == '__main__':\n",
    "    run_tests()"
   ]
  }
 ],
 "metadata": {
  "kernelspec": {
   "display_name": "Python 3 (ipykernel)",
   "language": "python",
   "name": "python3"
  },
  "language_info": {
   "codemirror_mode": {
    "name": "ipython",
    "version": 3
   },
   "file_extension": ".py",
   "mimetype": "text/x-python",
   "name": "python",
   "nbconvert_exporter": "python",
   "pygments_lexer": "ipython3",
   "version": "3.8.11"
  }
 },
 "nbformat": 4,
 "nbformat_minor": 4
}
