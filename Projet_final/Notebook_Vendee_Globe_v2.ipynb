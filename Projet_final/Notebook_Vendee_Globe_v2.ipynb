{
 "cells": [
  {
   "cell_type": "markdown",
   "id": "caf1cf61",
   "metadata": {},
   "source": [
    "<h1 align=\"center\">Projet Final MDI 721 : Analyse du Vendée Globe 2020 - 2021</h1>\n",
    "<h3 align=\"right\">Roland SCHWARTZ<br><i>MS IA - 2021/2022</i></h3>"
   ]
  },
  {
   "cell_type": "markdown",
   "id": "1c9c20b6",
   "metadata": {},
   "source": [
    "## Initialisation du projet"
   ]
  },
  {
   "cell_type": "markdown",
   "id": "1f6d572c",
   "metadata": {},
   "source": [
    "### Import des librairies"
   ]
  },
  {
   "cell_type": "code",
   "execution_count": 1,
   "id": "cdeb5ec9",
   "metadata": {},
   "outputs": [],
   "source": [
    "import os\n",
    "import re\n",
    "\n",
    "import requests\n",
    "from bs4 import BeautifulSoup\n",
    "\n",
    "import xlwings as xw\n",
    "\n",
    "from IPython.display import display, Image, HTML, clear_output\n",
    "import ipywidgets as widgets\n",
    "from ipyleaflet import Map, Marker, AntPath, basemaps\n",
    "\n",
    "import pandas as pd\n",
    "import matplotlib.pyplot as plt\n",
    "import numpy as np"
   ]
  },
  {
   "cell_type": "markdown",
   "id": "08e8b095",
   "metadata": {},
   "source": [
    "### Définition des URL sources et répertoire local"
   ]
  },
  {
   "cell_type": "code",
   "execution_count": 21,
   "id": "8bf741df",
   "metadata": {},
   "outputs": [],
   "source": [
    "URL_CLASS = 'https://www.vendeeglobe.org/fr/classement'\n",
    "URL_GLOSS = 'https://www.vendeeglobe.org/fr/glossaire'\n",
    "\n",
    "#DIR_XL = 'test_excel//'\n",
    "#DIR_XL = 'dir_excel//'\n",
    "DIR_XL = 'dir_excel'"
   ]
  },
  {
   "cell_type": "markdown",
   "id": "41e2d6e8",
   "metadata": {},
   "source": [
    "## Extraction des données"
   ]
  },
  {
   "cell_type": "markdown",
   "id": "df049219",
   "metadata": {},
   "source": [
    "### Download des fichiers Excel sur l'intégralité de la course"
   ]
  },
  {
   "cell_type": "code",
   "execution_count": 22,
   "id": "e591bf38",
   "metadata": {},
   "outputs": [],
   "source": [
    "def get_all_XL(URL_CLASS, DIR_XL):\n",
    "\n",
    "    if DIR_XL in os.listdir():\n",
    "        len_dir = len(os.listdir('./'+DIR_XL))\n",
    "        if len_dir > 0:\n",
    "            print(f'Le dossier local contient déjà {len_dir} éléments : les fichiers XL ne seront pas téléchargés.')\n",
    "            return\n",
    "    else:\n",
    "        os.mkdir(DIR_XL)\n",
    "        \n",
    "    res = requests.get(URL_CLASS)\n",
    "    soup = BeautifulSoup(res.content, 'html.parser')\n",
    "\n",
    "    excel_app = xw.App(visible=False)\n",
    "\n",
    "    options = soup.find(\"select\").find_all(\"option\")\n",
    "    idx = 0\n",
    "\n",
    "    for option in options[1:-2]:\n",
    "        tag_xl = option.attrs['value']+'.xlsx'\n",
    "        path_xl = DIR_XL+'/'+tag_xl\n",
    "        url_xl = 'https://www.vendeeglobe.org/download-race-data/vendeeglobe_'+tag_xl\n",
    "        r_xl = requests.get(url_xl)\n",
    "        open(path_xl, 'wb').write(r_xl.content)\n",
    "        excel_book = excel_app.books.open(path_xl)\n",
    "        excel_book.save()\n",
    "        excel_book.close()\n",
    "        idx += 1\n",
    "        if (idx%100 == 0):\n",
    "            print(f'Avancement : {idx} / {len(options[1:-2])}')\n",
    "\n",
    "    excel_app.quit()\n",
    "\n",
    "    return"
   ]
  },
  {
   "cell_type": "code",
   "execution_count": 23,
   "id": "864becd0",
   "metadata": {},
   "outputs": [
    {
     "name": "stdout",
     "output_type": "stream",
     "text": [
      "Le dossier local contient déjà 702 éléments : les fichiers XL ne seront pas téléchargés.\n"
     ]
    }
   ],
   "source": [
    "get_all_XL(URL_CLASS, DIR_XL)"
   ]
  },
  {
   "cell_type": "markdown",
   "id": "9d127466",
   "metadata": {},
   "source": [
    "### Récupération et aggrégation des informations sur les bateaux & skippers"
   ]
  },
  {
   "cell_type": "code",
   "execution_count": 241,
   "id": "7a8ada95",
   "metadata": {},
   "outputs": [
    {
     "data": {
      "application/vnd.jupyter.widget-view+json": {
       "model_id": "130c45daad0949d4ba0f62dd5d8baf95",
       "version_major": 2,
       "version_minor": 0
      },
      "text/plain": [
       "IntProgress(value=0, bar_style='info', description='Downloading skipper infos :', max=33)"
      ]
     },
     "metadata": {},
     "output_type": "display_data"
    },
    {
     "data": {
      "text/html": [
       "<div>\n",
       "<style scoped>\n",
       "    .dataframe tbody tr th:only-of-type {\n",
       "        vertical-align: middle;\n",
       "    }\n",
       "\n",
       "    .dataframe tbody tr th {\n",
       "        vertical-align: top;\n",
       "    }\n",
       "\n",
       "    .dataframe thead th {\n",
       "        text-align: right;\n",
       "    }\n",
       "</style>\n",
       "<table border=\"1\" class=\"dataframe\">\n",
       "  <thead>\n",
       "    <tr style=\"text-align: right;\">\n",
       "      <th></th>\n",
       "      <th>Skipper</th>\n",
       "      <th>Nom du bateau</th>\n",
       "      <th>Numéro de voile</th>\n",
       "      <th>Anciens noms du bateau</th>\n",
       "      <th>Architecte</th>\n",
       "      <th>Chantier</th>\n",
       "      <th>Date de lancement</th>\n",
       "      <th>Longueur</th>\n",
       "      <th>Largeur</th>\n",
       "      <th>Tirant d'eau</th>\n",
       "      <th>...</th>\n",
       "      <th>Voile quille</th>\n",
       "      <th>Surface de voiles au près</th>\n",
       "      <th>Surface de voiles au portant</th>\n",
       "      <th>Nationalité du Skipper</th>\n",
       "      <th>Age du Skipper</th>\n",
       "      <th>Nb. participations du Skipper au Vendée</th>\n",
       "      <th>Nb. Palmarès du Skipper</th>\n",
       "      <th>URL Page Skipper</th>\n",
       "      <th>URL Photo Skipper</th>\n",
       "      <th>URL Icône bateau</th>\n",
       "    </tr>\n",
       "  </thead>\n",
       "  <tbody>\n",
       "    <tr>\n",
       "      <th>0</th>\n",
       "      <td>Fabrice AMEDEO</td>\n",
       "      <td>NEWREST - ART &amp; FENÊTRES</td>\n",
       "      <td>FRA 56</td>\n",
       "      <td>No Way Back, Vento di Sardegna</td>\n",
       "      <td>VPLP/Verdier</td>\n",
       "      <td>Persico Marine</td>\n",
       "      <td>01 Août 2015</td>\n",
       "      <td>18,28 m</td>\n",
       "      <td>5,85 m</td>\n",
       "      <td>4,50 m</td>\n",
       "      <td>...</td>\n",
       "      <td>monotype</td>\n",
       "      <td>320 m2</td>\n",
       "      <td>570 m2</td>\n",
       "      <td>FR</td>\n",
       "      <td>43</td>\n",
       "      <td>2</td>\n",
       "      <td>18</td>\n",
       "      <td>https://www.vendeeglobe.org/fr/skippers/93/fab...</td>\n",
       "      <td>https://www.vendeeglobe.org/medias/05/02/50238...</td>\n",
       "      <td>https://www.vendeeglobe.org/medias/05/08/50821...</td>\n",
       "    </tr>\n",
       "    <tr>\n",
       "      <th>1</th>\n",
       "      <td>Romain ATTANASIO</td>\n",
       "      <td>PURE - Best Western®</td>\n",
       "      <td>FRA 49</td>\n",
       "      <td>Gitana Eighty, Synerciel, Newrest-Matmut</td>\n",
       "      <td>Bruce Farr Design</td>\n",
       "      <td>Southern Ocean Marine (Nouvelle Zélande)</td>\n",
       "      <td>08 Mars 2007</td>\n",
       "      <td>18,28m</td>\n",
       "      <td>5,80m</td>\n",
       "      <td>4,50m</td>\n",
       "      <td>...</td>\n",
       "      <td>acier forgé</td>\n",
       "      <td>280 m2</td>\n",
       "      <td>560 m2</td>\n",
       "      <td>FR</td>\n",
       "      <td>44</td>\n",
       "      <td>2</td>\n",
       "      <td>12</td>\n",
       "      <td>https://www.vendeeglobe.org/fr/skippers/110/ro...</td>\n",
       "      <td>https://www.vendeeglobe.org/medias/05/03/50390...</td>\n",
       "      <td>https://www.vendeeglobe.org/medias/05/06/50663...</td>\n",
       "    </tr>\n",
       "    <tr>\n",
       "      <th>2</th>\n",
       "      <td>Alexia BARRIER</td>\n",
       "      <td>TSE -  4MYPLANET</td>\n",
       "      <td>FRA72</td>\n",
       "      <td>Famille Mary-Etamine du Lys, Initiatives Coeur...</td>\n",
       "      <td>Marc Lombard</td>\n",
       "      <td>MAG France</td>\n",
       "      <td>01 Mars 1998</td>\n",
       "      <td>18,28m</td>\n",
       "      <td>5,54m</td>\n",
       "      <td>4,50m</td>\n",
       "      <td>...</td>\n",
       "      <td>acier</td>\n",
       "      <td>260 m2</td>\n",
       "      <td>580 m2</td>\n",
       "      <td>FR</td>\n",
       "      <td>41</td>\n",
       "      <td>1</td>\n",
       "      <td>19</td>\n",
       "      <td>https://www.vendeeglobe.org/fr/skippers/100/al...</td>\n",
       "      <td>https://www.vendeeglobe.org/medias/05/06/50614...</td>\n",
       "      <td>https://www.vendeeglobe.org/medias/05/04/50477...</td>\n",
       "    </tr>\n",
       "    <tr>\n",
       "      <th>3</th>\n",
       "      <td>Yannick BESTAVEN</td>\n",
       "      <td>Maître CoQ IV</td>\n",
       "      <td>17</td>\n",
       "      <td>Safran 2 - Des Voiles et Vous</td>\n",
       "      <td>Verdier - VPLP</td>\n",
       "      <td>CDK Technologies</td>\n",
       "      <td>12 Mars 2015</td>\n",
       "      <td>18,28 m</td>\n",
       "      <td>5,80 m</td>\n",
       "      <td>4,50 m</td>\n",
       "      <td>...</td>\n",
       "      <td>acier mécano soudé</td>\n",
       "      <td>310 m2</td>\n",
       "      <td>550 m2</td>\n",
       "      <td>FR</td>\n",
       "      <td>48</td>\n",
       "      <td>2</td>\n",
       "      <td>17</td>\n",
       "      <td>https://www.vendeeglobe.org/fr/skippers/91/yan...</td>\n",
       "      <td>https://www.vendeeglobe.org/medias/05/05/50512...</td>\n",
       "      <td>https://www.vendeeglobe.org/medias/05/08/50815...</td>\n",
       "    </tr>\n",
       "    <tr>\n",
       "      <th>4</th>\n",
       "      <td>Jérémie BEYOU</td>\n",
       "      <td>CHARAL</td>\n",
       "      <td>08</td>\n",
       "      <td>NaN</td>\n",
       "      <td>VPLP</td>\n",
       "      <td>CDK Technologies</td>\n",
       "      <td>18 Août 2018</td>\n",
       "      <td>18,28 m</td>\n",
       "      <td>5,85 m</td>\n",
       "      <td>4,50 m</td>\n",
       "      <td>...</td>\n",
       "      <td>acier</td>\n",
       "      <td>320 m2</td>\n",
       "      <td>600 m2</td>\n",
       "      <td>FR</td>\n",
       "      <td>45</td>\n",
       "      <td>4</td>\n",
       "      <td>26</td>\n",
       "      <td>https://www.vendeeglobe.org/fr/skippers/103/je...</td>\n",
       "      <td>https://www.vendeeglobe.org/medias/05/50/55058...</td>\n",
       "      <td>https://www.vendeeglobe.org/medias/05/04/50486...</td>\n",
       "    </tr>\n",
       "  </tbody>\n",
       "</table>\n",
       "<p>5 rows × 23 columns</p>\n",
       "</div>"
      ],
      "text/plain": [
       "            Skipper             Nom du bateau Numéro de voile  \\\n",
       "0    Fabrice AMEDEO  NEWREST - ART & FENÊTRES          FRA 56   \n",
       "1  Romain ATTANASIO      PURE - Best Western®          FRA 49   \n",
       "2    Alexia BARRIER          TSE -  4MYPLANET           FRA72   \n",
       "3  Yannick BESTAVEN             Maître CoQ IV              17   \n",
       "4     Jérémie BEYOU                    CHARAL              08   \n",
       "\n",
       "                              Anciens noms du bateau         Architecte  \\\n",
       "0                     No Way Back, Vento di Sardegna       VPLP/Verdier   \n",
       "1           Gitana Eighty, Synerciel, Newrest-Matmut  Bruce Farr Design   \n",
       "2  Famille Mary-Etamine du Lys, Initiatives Coeur...       Marc Lombard   \n",
       "3                      Safran 2 - Des Voiles et Vous     Verdier - VPLP   \n",
       "4                                                NaN               VPLP   \n",
       "\n",
       "                                   Chantier Date de lancement Longueur  \\\n",
       "0                            Persico Marine      01 Août 2015  18,28 m   \n",
       "1  Southern Ocean Marine (Nouvelle Zélande)      08 Mars 2007   18,28m   \n",
       "2                                MAG France      01 Mars 1998   18,28m   \n",
       "3                          CDK Technologies      12 Mars 2015  18,28 m   \n",
       "4                          CDK Technologies      18 Août 2018  18,28 m   \n",
       "\n",
       "  Largeur Tirant d'eau  ...        Voile quille Surface de voiles au près  \\\n",
       "0  5,85 m       4,50 m  ...            monotype                    320 m2   \n",
       "1   5,80m        4,50m  ...         acier forgé                    280 m2   \n",
       "2   5,54m        4,50m  ...               acier                    260 m2   \n",
       "3  5,80 m       4,50 m  ...  acier mécano soudé                    310 m2   \n",
       "4  5,85 m       4,50 m  ...               acier                    320 m2   \n",
       "\n",
       "  Surface de voiles au portant Nationalité du Skipper Age du Skipper  \\\n",
       "0                       570 m2                     FR             43   \n",
       "1                       560 m2                     FR             44   \n",
       "2                       580 m2                     FR             41   \n",
       "3                       550 m2                     FR             48   \n",
       "4                       600 m2                     FR             45   \n",
       "\n",
       "  Nb. participations du Skipper au Vendée Nb. Palmarès du Skipper  \\\n",
       "0                                       2                      18   \n",
       "1                                       2                      12   \n",
       "2                                       1                      19   \n",
       "3                                       2                      17   \n",
       "4                                       4                      26   \n",
       "\n",
       "                                    URL Page Skipper  \\\n",
       "0  https://www.vendeeglobe.org/fr/skippers/93/fab...   \n",
       "1  https://www.vendeeglobe.org/fr/skippers/110/ro...   \n",
       "2  https://www.vendeeglobe.org/fr/skippers/100/al...   \n",
       "3  https://www.vendeeglobe.org/fr/skippers/91/yan...   \n",
       "4  https://www.vendeeglobe.org/fr/skippers/103/je...   \n",
       "\n",
       "                                   URL Photo Skipper  \\\n",
       "0  https://www.vendeeglobe.org/medias/05/02/50238...   \n",
       "1  https://www.vendeeglobe.org/medias/05/03/50390...   \n",
       "2  https://www.vendeeglobe.org/medias/05/06/50614...   \n",
       "3  https://www.vendeeglobe.org/medias/05/05/50512...   \n",
       "4  https://www.vendeeglobe.org/medias/05/50/55058...   \n",
       "\n",
       "                                    URL Icône bateau  \n",
       "0  https://www.vendeeglobe.org/medias/05/08/50821...  \n",
       "1  https://www.vendeeglobe.org/medias/05/06/50663...  \n",
       "2  https://www.vendeeglobe.org/medias/05/04/50477...  \n",
       "3  https://www.vendeeglobe.org/medias/05/08/50815...  \n",
       "4  https://www.vendeeglobe.org/medias/05/04/50486...  \n",
       "\n",
       "[5 rows x 23 columns]"
      ]
     },
     "execution_count": 241,
     "metadata": {},
     "output_type": "execute_result"
    }
   ],
   "source": [
    "res_nav = requests.get(URL_GLOSS)\n",
    "\n",
    "soup_nav = BeautifulSoup(res_nav.content, 'html.parser')\n",
    "\n",
    "spec_boat_all = soup_nav.find_all(class_=\"sv-u-1 sv-u-s-1-2 sv-u-m-1-3 sv-u-l-1-6\")\n",
    "\n",
    "list_spec = []\n",
    "max_prog_nav = len(spec_boat_all)\n",
    "idx_prog = 0\n",
    "\n",
    "w_prog_nav = widgets.IntProgress(\n",
    "    value=0,\n",
    "    min=0,\n",
    "    max=max_prog_nav,\n",
    "    step=1,\n",
    "    description='Progress :',\n",
    "    bar_style='info', # 'success', 'info', 'warning', 'danger' or ''\n",
    "    orientation='horizontal',\n",
    ")\n",
    "\n",
    "display(w_prog_nav)\n",
    "\n",
    "for spec_boat in spec_boat_all:\n",
    "    row = {}\n",
    "    row['Skipper'] = spec_boat.find('span').text\n",
    "    row['Nom du bateau'] = spec_boat.find('h3').text\n",
    "\n",
    "    for spec in spec_boat.find_all(\"li\"):\n",
    "        row[spec.text.split(' : ')[0]] = spec.text.split(' : ')[1]\n",
    "\n",
    "    url_skipper = 'https://www.vendeeglobe.org'+spec_boat.find(class_='boats-list__popup-skipper-link')['href']\n",
    "\n",
    "    res_skipper = requests.get(url_skipper)\n",
    "    soup_skipper = BeautifulSoup(res_skipper.content, 'html.parser')\n",
    "\n",
    "    row['Nationalité du Skipper'] = soup_skipper.find(class_=\"skipper-datalist__item m--nationality\").find(class_=\"skipper-datalist__value__text\").text\n",
    "    row['Age du Skipper'] = soup_skipper.find(class_=\"icon icon-calendar\").find_parent(\"p\").find(class_=\"skipper-datalist__value__text\").text.split()[0]\n",
    "    row['Nb. participations du Skipper au Vendée'] = int(soup_skipper.find(class_=\"skipper-participation__number\").find(\"span\").text)\n",
    "    \n",
    "    skipper_all_palmares = soup_skipper.find_all(class_='prizes-slider__year')\n",
    "    cpt_palma = 0\n",
    "    for year in skipper_all_palmares:\n",
    "        list_palma_y = year.find_parent('div').find(class_='prizes-slider__list l-unlist').text.split('\\r\\n')\n",
    "        cpt_palma += len(list_palma_y) - 1\n",
    "    \n",
    "    row['Nb. Palmarès du Skipper'] = cpt_palma\n",
    "\n",
    "    row['URL Page Skipper'] = url_skipper\n",
    "    row['URL Photo Skipper'] = 'https://www.vendeeglobe.org'+soup_skipper.find(class_='skipper-hero__figure__img svg-filter').image['xlink:href']\n",
    "    row['URL Icône bateau'] = 'https://www.vendeeglobe.org'+spec_boat.find('img')['src']\n",
    "\n",
    "    list_spec.append(row)\n",
    "    idx_prog += 1\n",
    "    w_prog_nav.value = idx_prog\n",
    "\n",
    "if w_prog_nav.value == max_prog_nav:\n",
    "    w_prog_nav.bar_style = 'success'\n",
    "    w_prog_nav.description = 'Done !'\n",
    "\n",
    "df_boat = pd.DataFrame(list_spec)\n",
    "df_boat.head()\n",
    "\n"
   ]
  },
  {
   "cell_type": "markdown",
   "id": "89ad2e7f",
   "metadata": {},
   "source": [
    "## Préparation des données"
   ]
  },
  {
   "cell_type": "markdown",
   "id": "0da3c9b5",
   "metadata": {},
   "source": [
    "### Nettoyage et formatage des données Skipper"
   ]
  },
  {
   "cell_type": "code",
   "execution_count": 8,
   "id": "98e97134",
   "metadata": {},
   "outputs": [
    {
     "name": "stdout",
     "output_type": "stream",
     "text": [
      "var conv : None de type : <class 'NoneType'>\n",
      "var conv : 29.467166666666667 de type : <class 'float'>\n",
      "var conv : 2 de type : <class 'int'>\n"
     ]
    }
   ],
   "source": [
    "def str2float(str_XL):\n",
    "    #return float(re.findall(pattern='[-+]?\\d*[\\.|,]\\d+|\\d+', string=str_XL.replace(',','.'))[0])\n",
    "    if (str_XL is None or len(str_XL) == 0):\n",
    "        floatconv = None\n",
    "    else:\n",
    "        #print(str_XL)\n",
    "        floatconv = float(re.search(pattern='[-+]?\\d*[\\.|,]\\d+|\\d+', string=str_XL.replace(',','.')).group(0))\n",
    "    return floatconv\n",
    "\n",
    "\n",
    "def dm2float(str_dms):\n",
    "    if (str_dms is None or len(str_dms) == 0):\n",
    "        floatconv = None\n",
    "    else:\n",
    "        deg, minutes, direction =  re.split('[°\\']', str_dms)\n",
    "        floatconv = (float(deg) + float(minutes)/60) * (-1 if direction in ['W', 'S'] else 1)\n",
    "    return floatconv\n",
    "\n",
    "def natsail2int(str_id):\n",
    "    #return int(re.findall(pattern='\\d+', string=str_id)[0])\n",
    "    if (str_id is None or len(str_id) == 0):\n",
    "        invconv = None\n",
    "    else:\n",
    "        invconv = int(re.search(pattern='\\d+', string=str_id).group(0))\n",
    "    return invconv\n",
    "\n",
    "str_XL = '554m'\n",
    "str_XL = ''\n",
    "print(f'var conv : {str2float(str_XL)} de type : {type(str2float(str_XL))}')\n",
    "\n",
    "#str_dms = df_course_test.iloc[10]['Latitude']\n",
    "str_dms = '29°28.03\\'N'\n",
    "print(f'var conv : {dm2float(str_dms)} de type : {type(dm2float(str_dms))}')\n",
    "\n",
    "str_id = '\\nFR\\nFRA 02'\n",
    "print(f'var conv : {natsail2int(str_id)} de type : {type(natsail2int(str_id))}')"
   ]
  },
  {
   "cell_type": "code",
   "execution_count": null,
   "id": "a3c62535",
   "metadata": {},
   "outputs": [],
   "source": []
  },
  {
   "cell_type": "code",
   "execution_count": null,
   "id": "ecb066bf",
   "metadata": {},
   "outputs": [],
   "source": []
  },
  {
   "cell_type": "markdown",
   "id": "f607dceb",
   "metadata": {},
   "source": [
    "### Nettoyage, formatage et aggrégation des données de la course"
   ]
  },
  {
   "cell_type": "code",
   "execution_count": null,
   "id": "d2afb343",
   "metadata": {},
   "outputs": [],
   "source": []
  },
  {
   "cell_type": "code",
   "execution_count": null,
   "id": "339b5e86",
   "metadata": {},
   "outputs": [],
   "source": []
  },
  {
   "cell_type": "code",
   "execution_count": 9,
   "id": "863cc889",
   "metadata": {},
   "outputs": [],
   "source": [
    "col_names = ['Rang', 'Numéro Voile', 'Latitude', 'Longitude', \n",
    "\t\t\t'Cap sur 30 min', 'Vitesse sur 30 min (kts)',\n",
    "\t\t\t'VMG sur 30 min (kts)', 'Distance sur 30 min (nm)', \n",
    "\t\t\t'Cap depuis dernier classement', 'Vitesse depuis dernier classement (kts)',\n",
    "\t\t\t'VMG depuis dernier classement (kts)', 'Distance depuis dernier classement (nm)',\n",
    "\t\t\t'Cap sur 24h', 'Vitesse sur 24h (kts)', 'VMG sur 24h (kts)', 'Distance sur 24h (nm)',\n",
    "\t\t\t'Distance restante (nm)', 'Distance au premier (nm)']\n",
    "\n",
    "col_conv = ['Vitesse sur 30 min (kts)', 'VMG sur 30 min (kts)', 'Distance sur 30 min (nm)',\n",
    "\t\t\t'Vitesse depuis dernier classement (kts)', 'VMG depuis dernier classement (kts)',\n",
    "\t\t\t'Distance depuis dernier classement (nm)', 'Vitesse sur 24h (kts)', 'VMG sur 24h (kts)',\n",
    "\t\t\t'Distance sur 24h (nm)', 'Distance restante (nm)', 'Distance au premier (nm)']\n",
    "\n",
    "dico_conv = dict.fromkeys(col_conv, str2float)\n",
    "dico_conv.update(dict.fromkeys(['Latitude', 'Longitude'], dm2float))\n",
    "dico_conv['Numéro Voile'] = natsail2int"
   ]
  },
  {
   "cell_type": "code",
   "execution_count": 10,
   "id": "a47099d8",
   "metadata": {},
   "outputs": [
    {
     "data": {
      "text/html": [
       "<div>\n",
       "<style scoped>\n",
       "    .dataframe tbody tr th:only-of-type {\n",
       "        vertical-align: middle;\n",
       "    }\n",
       "\n",
       "    .dataframe tbody tr th {\n",
       "        vertical-align: top;\n",
       "    }\n",
       "\n",
       "    .dataframe thead th {\n",
       "        text-align: right;\n",
       "    }\n",
       "</style>\n",
       "<table border=\"1\" class=\"dataframe\">\n",
       "  <thead>\n",
       "    <tr style=\"text-align: right;\">\n",
       "      <th></th>\n",
       "      <th>Rang</th>\n",
       "      <th>Numéro Voile</th>\n",
       "      <th>Latitude</th>\n",
       "      <th>Longitude</th>\n",
       "      <th>Cap sur 30 min</th>\n",
       "      <th>Vitesse sur 30 min (kts)</th>\n",
       "      <th>VMG sur 30 min (kts)</th>\n",
       "      <th>Distance sur 30 min (nm)</th>\n",
       "      <th>Cap depuis dernier classement</th>\n",
       "      <th>Vitesse depuis dernier classement (kts)</th>\n",
       "      <th>VMG depuis dernier classement (kts)</th>\n",
       "      <th>Distance depuis dernier classement (nm)</th>\n",
       "      <th>Cap sur 24h</th>\n",
       "      <th>Vitesse sur 24h (kts)</th>\n",
       "      <th>VMG sur 24h (kts)</th>\n",
       "      <th>Distance sur 24h (nm)</th>\n",
       "      <th>Distance restante (nm)</th>\n",
       "      <th>Distance au premier (nm)</th>\n",
       "    </tr>\n",
       "  </thead>\n",
       "  <tbody>\n",
       "    <tr>\n",
       "      <th>23</th>\n",
       "      <td>24</td>\n",
       "      <td>2</td>\n",
       "      <td>-4.564333</td>\n",
       "      <td>-33.487000</td>\n",
       "      <td>190°</td>\n",
       "      <td>16.4</td>\n",
       "      <td>13.4</td>\n",
       "      <td>8.2</td>\n",
       "      <td>191°</td>\n",
       "      <td>15.2</td>\n",
       "      <td>12.6</td>\n",
       "      <td>106.4</td>\n",
       "      <td>196°</td>\n",
       "      <td>13.0</td>\n",
       "      <td>10.6</td>\n",
       "      <td>312.2</td>\n",
       "      <td>21081.5</td>\n",
       "      <td>2058.7</td>\n",
       "    </tr>\n",
       "    <tr>\n",
       "      <th>24</th>\n",
       "      <td>25</td>\n",
       "      <td>72</td>\n",
       "      <td>3.068333</td>\n",
       "      <td>-28.367667</td>\n",
       "      <td>203°</td>\n",
       "      <td>10.1</td>\n",
       "      <td>8.1</td>\n",
       "      <td>5.0</td>\n",
       "      <td>202°</td>\n",
       "      <td>5.6</td>\n",
       "      <td>4.6</td>\n",
       "      <td>38.9</td>\n",
       "      <td>200°</td>\n",
       "      <td>5.3</td>\n",
       "      <td>4.6</td>\n",
       "      <td>128.0</td>\n",
       "      <td>21416.3</td>\n",
       "      <td>2393.5</td>\n",
       "    </tr>\n",
       "    <tr>\n",
       "      <th>25</th>\n",
       "      <td>26</td>\n",
       "      <td>56</td>\n",
       "      <td>2.900167</td>\n",
       "      <td>-29.423167</td>\n",
       "      <td>236°</td>\n",
       "      <td>1.1</td>\n",
       "      <td>0.4</td>\n",
       "      <td>0.6</td>\n",
       "      <td>203°</td>\n",
       "      <td>2.3</td>\n",
       "      <td>1.8</td>\n",
       "      <td>16.2</td>\n",
       "      <td>183°</td>\n",
       "      <td>3.9</td>\n",
       "      <td>3.7</td>\n",
       "      <td>93.2</td>\n",
       "      <td>21421.6</td>\n",
       "      <td>2398.8</td>\n",
       "    </tr>\n",
       "    <tr>\n",
       "      <th>26</th>\n",
       "      <td>27</td>\n",
       "      <td>50</td>\n",
       "      <td>3.204000</td>\n",
       "      <td>-28.508333</td>\n",
       "      <td>181°</td>\n",
       "      <td>2.8</td>\n",
       "      <td>2.7</td>\n",
       "      <td>1.4</td>\n",
       "      <td>196°</td>\n",
       "      <td>5.1</td>\n",
       "      <td>4.5</td>\n",
       "      <td>36.0</td>\n",
       "      <td>179°</td>\n",
       "      <td>4.7</td>\n",
       "      <td>4.6</td>\n",
       "      <td>112.1</td>\n",
       "      <td>21426.2</td>\n",
       "      <td>2403.3</td>\n",
       "    </tr>\n",
       "    <tr>\n",
       "      <th>27</th>\n",
       "      <td>28</td>\n",
       "      <td>83</td>\n",
       "      <td>3.564667</td>\n",
       "      <td>-27.868167</td>\n",
       "      <td>222°</td>\n",
       "      <td>9.3</td>\n",
       "      <td>5.5</td>\n",
       "      <td>4.7</td>\n",
       "      <td>198°</td>\n",
       "      <td>3.8</td>\n",
       "      <td>3.3</td>\n",
       "      <td>26.5</td>\n",
       "      <td>171°</td>\n",
       "      <td>4.1</td>\n",
       "      <td>4.1</td>\n",
       "      <td>99.1</td>\n",
       "      <td>21438.9</td>\n",
       "      <td>2416.0</td>\n",
       "    </tr>\n",
       "    <tr>\n",
       "      <th>28</th>\n",
       "      <td>29</td>\n",
       "      <td>222</td>\n",
       "      <td>4.194833</td>\n",
       "      <td>-27.828833</td>\n",
       "      <td>225°</td>\n",
       "      <td>8.0</td>\n",
       "      <td>4.4</td>\n",
       "      <td>4.0</td>\n",
       "      <td>212°</td>\n",
       "      <td>3.6</td>\n",
       "      <td>2.6</td>\n",
       "      <td>24.9</td>\n",
       "      <td>190°</td>\n",
       "      <td>3.3</td>\n",
       "      <td>3.1</td>\n",
       "      <td>79.6</td>\n",
       "      <td>21475.4</td>\n",
       "      <td>2452.6</td>\n",
       "    </tr>\n",
       "    <tr>\n",
       "      <th>29</th>\n",
       "      <td>30</td>\n",
       "      <td>69</td>\n",
       "      <td>4.691167</td>\n",
       "      <td>-28.781500</td>\n",
       "      <td>195°</td>\n",
       "      <td>6.6</td>\n",
       "      <td>5.8</td>\n",
       "      <td>3.3</td>\n",
       "      <td>186°</td>\n",
       "      <td>6.2</td>\n",
       "      <td>5.8</td>\n",
       "      <td>43.1</td>\n",
       "      <td>201°</td>\n",
       "      <td>1.5</td>\n",
       "      <td>1.3</td>\n",
       "      <td>36.5</td>\n",
       "      <td>21516.8</td>\n",
       "      <td>2494.0</td>\n",
       "    </tr>\n",
       "    <tr>\n",
       "      <th>30</th>\n",
       "      <td>31</td>\n",
       "      <td>11</td>\n",
       "      <td>6.991667</td>\n",
       "      <td>-28.896167</td>\n",
       "      <td>175°</td>\n",
       "      <td>6.9</td>\n",
       "      <td>6.9</td>\n",
       "      <td>3.5</td>\n",
       "      <td>177°</td>\n",
       "      <td>6.7</td>\n",
       "      <td>6.6</td>\n",
       "      <td>46.7</td>\n",
       "      <td>167°</td>\n",
       "      <td>3.2</td>\n",
       "      <td>3.2</td>\n",
       "      <td>76.4</td>\n",
       "      <td>21653.0</td>\n",
       "      <td>2630.2</td>\n",
       "    </tr>\n",
       "    <tr>\n",
       "      <th>31</th>\n",
       "      <td>32</td>\n",
       "      <td>8</td>\n",
       "      <td>14.488833</td>\n",
       "      <td>-22.069000</td>\n",
       "      <td>272°</td>\n",
       "      <td>10.3</td>\n",
       "      <td>1.7</td>\n",
       "      <td>5.1</td>\n",
       "      <td>198°</td>\n",
       "      <td>7.5</td>\n",
       "      <td>7.5</td>\n",
       "      <td>52.8</td>\n",
       "      <td>201°</td>\n",
       "      <td>8.5</td>\n",
       "      <td>8.4</td>\n",
       "      <td>204.1</td>\n",
       "      <td>22084.5</td>\n",
       "      <td>3061.6</td>\n",
       "    </tr>\n",
       "    <tr>\n",
       "      <th>32</th>\n",
       "      <td>RET</td>\n",
       "      <td>6</td>\n",
       "      <td>NaN</td>\n",
       "      <td>NaN</td>\n",
       "      <td>NaN</td>\n",
       "      <td>NaN</td>\n",
       "      <td>NaN</td>\n",
       "      <td>NaN</td>\n",
       "      <td>NaN</td>\n",
       "      <td>NaN</td>\n",
       "      <td>NaN</td>\n",
       "      <td>NaN</td>\n",
       "      <td>NaN</td>\n",
       "      <td>NaN</td>\n",
       "      <td>NaN</td>\n",
       "      <td>NaN</td>\n",
       "      <td>NaN</td>\n",
       "      <td>NaN</td>\n",
       "    </tr>\n",
       "  </tbody>\n",
       "</table>\n",
       "</div>"
      ],
      "text/plain": [
       "   Rang  Numéro Voile   Latitude  Longitude Cap sur 30 min  \\\n",
       "23   24             2  -4.564333 -33.487000           190°   \n",
       "24   25            72   3.068333 -28.367667           203°   \n",
       "25   26            56   2.900167 -29.423167           236°   \n",
       "26   27            50   3.204000 -28.508333           181°   \n",
       "27   28            83   3.564667 -27.868167           222°   \n",
       "28   29           222   4.194833 -27.828833           225°   \n",
       "29   30            69   4.691167 -28.781500           195°   \n",
       "30   31            11   6.991667 -28.896167           175°   \n",
       "31   32             8  14.488833 -22.069000           272°   \n",
       "32  RET             6        NaN        NaN            NaN   \n",
       "\n",
       "    Vitesse sur 30 min (kts)  VMG sur 30 min (kts)  Distance sur 30 min (nm)  \\\n",
       "23                      16.4                  13.4                       8.2   \n",
       "24                      10.1                   8.1                       5.0   \n",
       "25                       1.1                   0.4                       0.6   \n",
       "26                       2.8                   2.7                       1.4   \n",
       "27                       9.3                   5.5                       4.7   \n",
       "28                       8.0                   4.4                       4.0   \n",
       "29                       6.6                   5.8                       3.3   \n",
       "30                       6.9                   6.9                       3.5   \n",
       "31                      10.3                   1.7                       5.1   \n",
       "32                       NaN                   NaN                       NaN   \n",
       "\n",
       "   Cap depuis dernier classement  Vitesse depuis dernier classement (kts)  \\\n",
       "23                          191°                                     15.2   \n",
       "24                          202°                                      5.6   \n",
       "25                          203°                                      2.3   \n",
       "26                          196°                                      5.1   \n",
       "27                          198°                                      3.8   \n",
       "28                          212°                                      3.6   \n",
       "29                          186°                                      6.2   \n",
       "30                          177°                                      6.7   \n",
       "31                          198°                                      7.5   \n",
       "32                           NaN                                      NaN   \n",
       "\n",
       "    VMG depuis dernier classement (kts)  \\\n",
       "23                                 12.6   \n",
       "24                                  4.6   \n",
       "25                                  1.8   \n",
       "26                                  4.5   \n",
       "27                                  3.3   \n",
       "28                                  2.6   \n",
       "29                                  5.8   \n",
       "30                                  6.6   \n",
       "31                                  7.5   \n",
       "32                                  NaN   \n",
       "\n",
       "    Distance depuis dernier classement (nm) Cap sur 24h  \\\n",
       "23                                    106.4        196°   \n",
       "24                                     38.9        200°   \n",
       "25                                     16.2        183°   \n",
       "26                                     36.0        179°   \n",
       "27                                     26.5        171°   \n",
       "28                                     24.9        190°   \n",
       "29                                     43.1        201°   \n",
       "30                                     46.7        167°   \n",
       "31                                     52.8        201°   \n",
       "32                                      NaN         NaN   \n",
       "\n",
       "    Vitesse sur 24h (kts)  VMG sur 24h (kts)  Distance sur 24h (nm)  \\\n",
       "23                   13.0               10.6                  312.2   \n",
       "24                    5.3                4.6                  128.0   \n",
       "25                    3.9                3.7                   93.2   \n",
       "26                    4.7                4.6                  112.1   \n",
       "27                    4.1                4.1                   99.1   \n",
       "28                    3.3                3.1                   79.6   \n",
       "29                    1.5                1.3                   36.5   \n",
       "30                    3.2                3.2                   76.4   \n",
       "31                    8.5                8.4                  204.1   \n",
       "32                    NaN                NaN                    NaN   \n",
       "\n",
       "    Distance restante (nm)  Distance au premier (nm)  \n",
       "23                 21081.5                    2058.7  \n",
       "24                 21416.3                    2393.5  \n",
       "25                 21421.6                    2398.8  \n",
       "26                 21426.2                    2403.3  \n",
       "27                 21438.9                    2416.0  \n",
       "28                 21475.4                    2452.6  \n",
       "29                 21516.8                    2494.0  \n",
       "30                 21653.0                    2630.2  \n",
       "31                 22084.5                    3061.6  \n",
       "32                     NaN                       NaN  "
      ]
     },
     "execution_count": 10,
     "metadata": {},
     "output_type": "execute_result"
    }
   ],
   "source": [
    "# df_course_test = pd.read_excel('./DIR_XL/20201114_080000.xlsx')\n",
    "\n",
    "xl_file_test = '20201125_040000.xlsx'\n",
    "\n",
    "df_course_test = pd.read_excel('./'+DIR_XL+xl_file_test, converters=dico_conv, na_values=['','\\n','\\\\n'], usecols='B,C,F:U', skiprows=5, skipfooter=4, header=None, names=col_names)\n",
    "#df_course_test = pd.read_excel('./'+DIR_XL+xl_file_test, usecols='B,C,F:U', skiprows=5, skipfooter=4, header=None, names=col_names)\n",
    "# df_course_test[col_conv].str.extract('[-+]?\\d*[\\.|,]\\d+|\\d+')\n",
    "\n",
    "\n",
    "\n",
    "df_course_test.tail(10)"
   ]
  },
  {
   "cell_type": "code",
   "execution_count": null,
   "id": "b8adc448",
   "metadata": {},
   "outputs": [],
   "source": []
  },
  {
   "cell_type": "code",
   "execution_count": null,
   "id": "475dccd6",
   "metadata": {},
   "outputs": [],
   "source": []
  },
  {
   "cell_type": "markdown",
   "id": "b6cdfbeb",
   "metadata": {},
   "source": [
    "## Présentation synthétique des duos Skipper / IMOCA"
   ]
  },
  {
   "cell_type": "code",
   "execution_count": null,
   "id": "c1ccb118",
   "metadata": {},
   "outputs": [],
   "source": []
  },
  {
   "cell_type": "code",
   "execution_count": null,
   "id": "12012f9a",
   "metadata": {},
   "outputs": [],
   "source": []
  },
  {
   "cell_type": "code",
   "execution_count": null,
   "id": "1e594b0a",
   "metadata": {},
   "outputs": [],
   "source": []
  },
  {
   "cell_type": "markdown",
   "id": "7d596ffc",
   "metadata": {},
   "source": [
    "## Analyse des données de la course"
   ]
  },
  {
   "cell_type": "code",
   "execution_count": null,
   "id": "cd6d127a",
   "metadata": {},
   "outputs": [],
   "source": []
  },
  {
   "cell_type": "markdown",
   "id": "c3509837",
   "metadata": {},
   "source": [
    "### VMG vs. Vitesse réelle"
   ]
  },
  {
   "cell_type": "code",
   "execution_count": null,
   "id": "563a7beb",
   "metadata": {},
   "outputs": [],
   "source": []
  },
  {
   "cell_type": "code",
   "execution_count": null,
   "id": "ca815b84",
   "metadata": {},
   "outputs": [],
   "source": []
  },
  {
   "cell_type": "markdown",
   "id": "9eed3854",
   "metadata": {},
   "source": [
    "### Expérience des skippers et performance"
   ]
  },
  {
   "cell_type": "code",
   "execution_count": null,
   "id": "d5bdaa53",
   "metadata": {},
   "outputs": [],
   "source": []
  },
  {
   "cell_type": "code",
   "execution_count": null,
   "id": "f94d10eb",
   "metadata": {},
   "outputs": [],
   "source": []
  },
  {
   "cell_type": "markdown",
   "id": "73e63d02",
   "metadata": {},
   "source": [
    "### Caractéristiques de l'IMOCA et performance"
   ]
  },
  {
   "cell_type": "code",
   "execution_count": null,
   "id": "bdf0f665",
   "metadata": {},
   "outputs": [],
   "source": []
  },
  {
   "cell_type": "markdown",
   "id": "90f4c817",
   "metadata": {},
   "source": [
    "# BROUILLON TO REMOVE"
   ]
  },
  {
   "cell_type": "markdown",
   "id": "2ec5d2db",
   "metadata": {},
   "source": [
    "## Tests widgets"
   ]
  },
  {
   "cell_type": "markdown",
   "id": "3f2a373d",
   "metadata": {},
   "source": [
    "### Display loading bar"
   ]
  },
  {
   "cell_type": "code",
   "execution_count": 240,
   "id": "d26fbeb2",
   "metadata": {},
   "outputs": [
    {
     "data": {
      "application/vnd.jupyter.widget-view+json": {
       "model_id": "f7775bedcd20418583bf9458f3cb8d44",
       "version_major": 2,
       "version_minor": 0
      },
      "text/plain": [
       "IntProgress(value=0, bar_style='info', description='Downloading:', max=10000)"
      ]
     },
     "metadata": {},
     "output_type": "display_data"
    }
   ],
   "source": [
    "max_iter = 10_000\n",
    "\n",
    "w_prog_XL = widgets.IntProgress(\n",
    "    value=0,\n",
    "    min=0,\n",
    "    max=max_iter,\n",
    "    step=1,\n",
    "    description='Downloading:',\n",
    "    bar_style='info', # 'success', 'info', 'warning', 'danger' or ''\n",
    "    orientation='horizontal',\n",
    ")\n",
    "\n",
    "display(w_prog_XL)\n",
    "\n",
    "for i in range(max_iter + 1):\n",
    "    w_prog_XL.value = i\n",
    "\n",
    "if w_prog_XL.value == max_iter:\n",
    "    w_prog_XL.bar_style = 'success'\n",
    "    w_prog_XL.description = 'Done !'\n",
    "\n",
    "\n"
   ]
  },
  {
   "cell_type": "code",
   "execution_count": null,
   "id": "8fcdbc95",
   "metadata": {},
   "outputs": [],
   "source": [
    "int_range = widgets.IntSlider()\n",
    "output2 = widgets.Output()\n",
    "\n",
    "display(int_range, output2)\n",
    "\n",
    "test_suivi = 0\n",
    "\n",
    "def on_value_change(change):\n",
    "    with output2:\n",
    "        print(str(change))\n",
    "        globals()['test_suivi'] += 1\n",
    "        suivi = globals()['test_suivi']\n",
    "        print(f'test suivi : {suivi}')\n",
    "\n",
    "int_range.observe(on_value_change, names='value')"
   ]
  },
  {
   "cell_type": "code",
   "execution_count": 253,
   "id": "9cec27c3",
   "metadata": {},
   "outputs": [
    {
     "data": {
      "text/plain": [
       "1"
      ]
     },
     "execution_count": 253,
     "metadata": {},
     "output_type": "execute_result"
    }
   ],
   "source": [
    "test_suivi = 0\n",
    "\n",
    "globals()['test_suivi']+=1\n",
    "\n",
    "test_suivi"
   ]
  },
  {
   "cell_type": "markdown",
   "id": "e7bcc1e5",
   "metadata": {},
   "source": [
    "### Display Skipper / IMOCA info"
   ]
  },
  {
   "cell_type": "code",
   "execution_count": 183,
   "id": "2898cd53",
   "metadata": {},
   "outputs": [
    {
     "data": {
      "application/vnd.jupyter.widget-view+json": {
       "model_id": "03e7576e037a44689fd6c738c531203c",
       "version_major": 2,
       "version_minor": 0
      },
      "text/plain": [
       "Image(value=b'\\xff\\xd8\\xff\\xe0\\x00\\x10JFIF\\x00\\x01\\x01\\x01\\x00`\\x00`\\x00\\x00\\xff\\xfe\\x00;CREATOR: gd-jpeg v1.0…"
      ]
     },
     "metadata": {},
     "output_type": "display_data"
    }
   ],
   "source": [
    "#file = open(\"https://www.vendeeglobe.org/medias/05/02/50238/fabrice-amedeo-c-462-560.jpg\", \"rb\")\n",
    "#image = file.read()\n",
    "url_image_test = \"https://www.vendeeglobe.org/medias/05/02/50238/fabrice-amedeo-c-462-560.jpg\"\n",
    "imgtestdisp = Image(url_image_test)\n",
    "\n",
    "\n",
    "widgets.Image(\n",
    "    value=imgtestdisp.data,\n",
    "    format='jpg',\n",
    "    width=300,\n",
    "    height=400,\n",
    ")\n",
    "\n"
   ]
  },
  {
   "cell_type": "code",
   "execution_count": 45,
   "id": "99d5e51d",
   "metadata": {},
   "outputs": [
    {
     "data": {
      "application/vnd.jupyter.widget-view+json": {
       "model_id": "f01372c4948c4c76b7bb8448dbb1dc80",
       "version_major": 2,
       "version_minor": 0
      },
      "text/plain": [
       "Dropdown(options=('Fabrice AMEDEO', 'Romain ATTANASIO', 'Alexia BARRIER', 'Yannick BESTAVEN', 'Jérémie BEYOU',…"
      ]
     },
     "metadata": {},
     "output_type": "display_data"
    }
   ],
   "source": [
    "list_skipper = df_boat['Skipper'].tolist()\n",
    "\n",
    "skipper_select = widgets.Dropdown(options=list_skipper)\n",
    "\n",
    "display(skipper_select)"
   ]
  },
  {
   "cell_type": "markdown",
   "id": "6ef2a626",
   "metadata": {},
   "source": [
    "# WIDGET ENFIN FONCTIONNEL !!!!!"
   ]
  },
  {
   "cell_type": "code",
   "execution_count": 190,
   "id": "af672eee",
   "metadata": {},
   "outputs": [
    {
     "data": {
      "application/vnd.jupyter.widget-view+json": {
       "model_id": "99ae43092c26445a93af501da46775d9",
       "version_major": 2,
       "version_minor": 0
      },
      "text/plain": [
       "VBox(children=(Dropdown(options=('Fabrice AMEDEO', 'Romain ATTANASIO', 'Alexia BARRIER', 'Yannick BESTAVEN', '…"
      ]
     },
     "metadata": {},
     "output_type": "display_data"
    }
   ],
   "source": [
    "skipper_select = widgets.Dropdown(options=list_skipper)\n",
    "\n",
    "data_img = Image(df_boat['URL Photo Skipper'][df_boat['Skipper'] == skipper_select.value].values[0]).data\n",
    "\n",
    "skipper_img_widg = widgets.Image(value=data_img, format='jpg', width=300, height=400)\n",
    "output2 = widgets.Output()\n",
    "\n",
    "def handle_skipper_chg(change):\n",
    "    new_url = df_boat['URL Photo Skipper'][df_boat['Skipper'] == change.new].values[0]\n",
    "    skipper_img_widg.value = Image(new_url).data\n",
    "\n",
    "skipper_select.observe(handle_skipper_chg, names='value')\n",
    "\n",
    "widgets.VBox([skipper_select, skipper_img_widg])\n"
   ]
  },
  {
   "cell_type": "code",
   "execution_count": 257,
   "id": "0ce39ea6",
   "metadata": {},
   "outputs": [
    {
     "data": {
      "application/vnd.jupyter.widget-view+json": {
       "model_id": "0fbe763a7c01449fa71aa076a2124c9c",
       "version_major": 2,
       "version_minor": 0
      },
      "text/plain": [
       "HBox(children=(VBox(children=(Dropdown(options=('Fabrice AMEDEO', 'Romain ATTANASIO', 'Alexia BARRIER', 'Yanni…"
      ]
     },
     "metadata": {},
     "output_type": "display_data"
    }
   ],
   "source": [
    "hbox_layout = widgets.Layout()\n",
    "#hbox_layout.width = '100%'\n",
    "hbox_layout.justify_content = 'space-around'\n",
    "\n",
    "black_box_layout = widgets.Layout()\n",
    "black_box_layout.width = '400px'\n",
    "black_box_layout.height = '400px'\n",
    "black_box_layout.border = '5px solid black'\n",
    "\n",
    "fit_opt = 'contain'\n",
    "image_margin = '0 0 0 0'\n",
    "\n",
    "\n",
    "list_skipper = df_boat['Skipper'].tolist()\n",
    "skipper_select = widgets.Dropdown(options=list_skipper)\n",
    "\n",
    "html_boat = '<h2 align=\"center\"><i>'+df_boat['Nom du bateau'][df_boat['Skipper'] == skipper_select.value].values[0]+'</i></h2>'\n",
    "title_boat = widgets.HTML(value=html_boat)\n",
    "\n",
    "data_img = Image(df_boat['URL Photo Skipper'][df_boat['Skipper'] == skipper_select.value].values[0]).data\n",
    "#skipper_img_widg = widgets.Image(value=data_img, format='jpg', width=300, height=400)\n",
    "skipper_img_widg = widgets.Image(value=data_img, format='jpg')\n",
    "\n",
    "data_boat_img = Image(df_boat['URL Icône bateau'][df_boat['Skipper'] == skipper_select.value].values[0]).data\n",
    "#boat_img_widg = widgets.Image(value=data_boat_img, format='jpg', width=300, height=400)\n",
    "boat_img_widg = widgets.Image(value=data_boat_img, format='jpg')\n",
    "\n",
    "def handle_skipper_chg(change):\n",
    "    df_skipper = df_boat[df_boat['Skipper'] == change.new]\n",
    "    new_url_skip = df_skipper['URL Photo Skipper'].values[0]\n",
    "    skipper_img_widg.value = Image(new_url_skip).data\n",
    "    new_url_boat = df_skipper['URL Icône bateau'].values[0]\n",
    "    boat_img_widg.value = Image(new_url_boat).data\n",
    "    new_html_boat = '<h2 align=\"center\"><i>'+df_skipper['Nom du bateau'].values[0]+'</i></h2>'\n",
    "    title_boat.value = new_html_boat\n",
    "\n",
    "\n",
    "skipper_select.observe(handle_skipper_chg, names='value')\n",
    "\n",
    "\n",
    "skipper_img_widg.layout.object_fit = fit_opt\n",
    "boat_img_widg.layout.object_fit = fit_opt\n",
    "skipper_img_widg.layout.margin = image_margin\n",
    "boat_img_widg.layout.margin = image_margin\n",
    "skipper_img_widg.layout.object_position = 'center center'\n",
    "boat_img_widg.layout.object_position = 'center center'\n",
    "\n",
    "box_img_skip = widgets.Box([skipper_img_widg])\n",
    "box_img_skip.layout = black_box_layout\n",
    "box_img_skip.layout.object_position = 'center center'\n",
    "\n",
    "box_img_boat = widgets.Box([boat_img_widg])\n",
    "box_img_boat.layout = black_box_layout\n",
    "box_img_boat.layout.object_position = 'center center'\n",
    "\n",
    "left_box = widgets.VBox([skipper_select, box_img_skip])\n",
    "left_box.layout.align_items = 'center'\n",
    "right_box = widgets.VBox([title_boat, box_img_boat])\n",
    "right_box.layout.align_items = 'center'\n",
    "disp_widg = widgets.HBox([left_box, right_box])\n",
    "disp_widg.layout = hbox_layout\n",
    "disp_widg.layout.align_items = 'center'\n",
    "disp_widg"
   ]
  },
  {
   "cell_type": "code",
   "execution_count": 220,
   "id": "8e391b07",
   "metadata": {},
   "outputs": [
    {
     "data": {
      "text/plain": [
       "'https://www.vendeeglobe.org/medias/05/02/50243/arnaud-boissieres-c-462-560.jpg'"
      ]
     },
     "execution_count": 220,
     "metadata": {},
     "output_type": "execute_result"
    }
   ],
   "source": [
    "df_boat['URL Photo Skipper'][df_boat['Skipper'] == skipper_select.value].values[0]"
   ]
  },
  {
   "cell_type": "code",
   "execution_count": 227,
   "id": "82fbae13",
   "metadata": {},
   "outputs": [
    {
     "data": {
      "text/plain": [
       "'https://www.vendeeglobe.org/medias/05/03/50390/romain-attanasio-c-462-560.jpg'"
      ]
     },
     "execution_count": 227,
     "metadata": {},
     "output_type": "execute_result"
    }
   ],
   "source": [
    "df_skipper = df_boat[df_boat['Skipper'] == skipper_select.value]\n",
    "\n",
    "df_skipper['URL Photo Skipper'].values[0]"
   ]
  },
  {
   "cell_type": "code",
   "execution_count": null,
   "id": "993ee444",
   "metadata": {},
   "outputs": [],
   "source": []
  },
  {
   "cell_type": "code",
   "execution_count": null,
   "id": "bcb4b215",
   "metadata": {},
   "outputs": [],
   "source": []
  },
  {
   "cell_type": "code",
   "execution_count": 117,
   "id": "d15c4a27",
   "metadata": {},
   "outputs": [
    {
     "data": {
      "text/html": [
       "<img src=\"https://www.vendeeglobe.org/medias/05/02/50246/manuel-cousin-c-462-560.jpg\" style=max-height:500px;\"/>"
      ],
      "text/plain": [
       "<IPython.core.display.HTML object>"
      ]
     },
     "execution_count": 117,
     "metadata": {},
     "output_type": "execute_result"
    }
   ],
   "source": [
    "def path_to_image_html(path):\n",
    "    '''\n",
    "     This function essentially convert the image url to \n",
    "     '<img src=\"'+ path + '\"/>' format. And one can put any\n",
    "     formatting adjustments to control the height, aspect ratio, size etc.\n",
    "     within as in the below example. \n",
    "    '''\n",
    "    return '<img src=\"'+ path + '\" style=max-height:500px;\"/>'\n",
    "\n",
    "def show_im():\n",
    "    CSS = \"\"\"\n",
    "    .output {\n",
    "        flex-direction: row;\n",
    "    }\n",
    "    \"\"\"\n",
    "    return HTML('<style>{}</style>'.format(CSS))\n",
    "\n",
    "imgurl = df_boat['URL Photo Skipper'][df_boat['Skipper'] == skipper_select.value].values[0]\n",
    "\n",
    "# display(HTML(path_to_image_html(imgurl)))\n",
    "HTML(path_to_image_html(imgurl))"
   ]
  },
  {
   "cell_type": "code",
   "execution_count": 174,
   "id": "065a03fc",
   "metadata": {},
   "outputs": [
    {
     "data": {
      "application/vnd.jupyter.widget-view+json": {
       "model_id": "6d901ef5317645a3b3a430bd79c46fd0",
       "version_major": 2,
       "version_minor": 0
      },
      "text/plain": [
       "Tab(children=(VBox(children=(Dropdown(description='Skipper : ', options=('Fabrice AMEDEO', 'Romain ATTANASIO',…"
      ]
     },
     "metadata": {},
     "output_type": "display_data"
    }
   ],
   "source": [
    "def image_viewer(drpdwn):\n",
    "    \n",
    "    imgurl = df_boat['URL Photo Skipper'][df_boat['Skipper'] == drpdwn].values[0]\n",
    "    display(HTML(path_to_image_html(imgurl)))\n",
    "    #show_im()\n",
    "\n",
    "\n",
    "skipper_select = widgets.Dropdown(options=list_skipper, description='Skipper : ')\n",
    "\n",
    "tab_nest = widgets.Tab()\n",
    "tab_nest.set_title(0, 'Image Skipper')\n",
    "\n",
    "f1 = widgets.interactive(image_viewer, drpdwn=skipper_select)\n",
    "\n",
    "tab_nest.children = [widgets.VBox(children = f1.children)]\n",
    "tab_nest"
   ]
  },
  {
   "cell_type": "code",
   "execution_count": 175,
   "id": "83ebd52f",
   "metadata": {},
   "outputs": [
    {
     "data": {
      "application/vnd.jupyter.widget-view+json": {
       "model_id": "a8de4122f3984dc192b3ac017f417deb",
       "version_major": 2,
       "version_minor": 0
      },
      "text/plain": [
       "VBox(children=(Dropdown(description='Skipper : ', options=('Fabrice AMEDEO', 'Romain ATTANASIO', 'Alexia BARRI…"
      ]
     },
     "metadata": {},
     "output_type": "display_data"
    }
   ],
   "source": [
    "def image_viewer(drpdwn):\n",
    "    \n",
    "    imgurl = df_boat['URL Photo Skipper'][df_boat['Skipper'] == drpdwn].values[0]\n",
    "    display(HTML(path_to_image_html(imgurl)))\n",
    "    #show_im()\n",
    "\n",
    "\n",
    "skipper_select = widgets.Dropdown(options=list_skipper, description='Skipper : ')\n",
    "\n",
    "f1 = widgets.interactive(image_viewer, drpdwn=skipper_select)\n",
    "\n",
    "wVBox = widgets.VBox(children = f1.children)\n",
    "wVBox"
   ]
  },
  {
   "cell_type": "code",
   "execution_count": 164,
   "id": "7b30b1b1",
   "metadata": {},
   "outputs": [
    {
     "data": {
      "application/vnd.jupyter.widget-view+json": {
       "model_id": "f6f5351eed104532afdcfed6c767aed7",
       "version_major": 2,
       "version_minor": 0
      },
      "text/plain": [
       "Dropdown(description='Task:', options=('Addition', 'Multiplication', 'Subtraction', 'Division'), value='Additi…"
      ]
     },
     "metadata": {},
     "output_type": "display_data"
    },
    {
     "data": {
      "application/vnd.jupyter.widget-view+json": {
       "model_id": "2aaa92db2930402eac9644d598003ad8",
       "version_major": 2,
       "version_minor": 0
      },
      "text/plain": [
       "Output()"
      ]
     },
     "metadata": {},
     "output_type": "display_data"
    }
   ],
   "source": [
    "w = widgets.Dropdown(\n",
    "    options=['Addition', 'Multiplication', 'Subtraction', 'Division'],\n",
    "    value='Addition',\n",
    "    description='Task:',\n",
    ")\n",
    "\n",
    "out = widgets.Output()\n",
    "clear_output()\n",
    "\n",
    "i = 0\n",
    "\n",
    "def on_change(change):\n",
    "    clear_output()\n",
    "    with out :\n",
    "        #print(\"changed to %s\" % change['new'])\n",
    "        globals()['i'] += 1\n",
    "        new_i = globals()['i']\n",
    "        print(f'dico change : {change.old} to {change.new} - iter : {new_i}')\n",
    "\n",
    "\n",
    "w.observe(on_change, names='value')\n",
    "display(w, out, clear=True)\n"
   ]
  },
  {
   "cell_type": "code",
   "execution_count": 176,
   "id": "2186f692",
   "metadata": {},
   "outputs": [
    {
     "data": {
      "application/vnd.jupyter.widget-view+json": {
       "model_id": "b537520841ac4b28bda6c2142d9b7a37",
       "version_major": 2,
       "version_minor": 0
      },
      "text/plain": [
       "Output()"
      ]
     },
     "metadata": {},
     "output_type": "display_data"
    }
   ],
   "source": [
    "output_radio_selected = widgets.Text() # Used to take the user input and access it when needed\n",
    "radio_input = widgets.RadioButtons(options=['Option 1', 'Option 2']) # Declare the set of radio buttons and provide options\n",
    "\n",
    "out = widgets.Output()\n",
    "clear_output()\n",
    "\n",
    "def bind_selected_to_output(sender): # Connect the input from the user to the output so we can access it\n",
    "    print(sender)\n",
    "    global selected_option # Global variable to hold the user input for reuse in your code\n",
    "    output_radio_selected.value = radio_input.value\n",
    "    selected_option = output_radio_selected.value # Example variable assigned the selected value\n",
    "    with out : print('Selected option set to: ' + selected_option) # For test purposes\n",
    "\n",
    "radio_input.observe(bind_selected_to_output, names=['value']) # Run the bind... function when the radio button is changed\n",
    "out # Display the radio buttons to the user"
   ]
  },
  {
   "cell_type": "code",
   "execution_count": 177,
   "id": "b74399ee",
   "metadata": {},
   "outputs": [
    {
     "data": {
      "application/vnd.jupyter.widget-view+json": {
       "model_id": "67a8c240d5934be2b60a8dc083e2d8f3",
       "version_major": 2,
       "version_minor": 0
      },
      "text/plain": [
       "HBox(children=(RadioButtons(options=('Option 1', 'Option 2'), value='Option 1'), Text(value='Option 1')))"
      ]
     },
     "metadata": {},
     "output_type": "display_data"
    }
   ],
   "source": [
    "widgets.HBox([radio_input, output_radio_selected])"
   ]
  },
  {
   "cell_type": "code",
   "execution_count": null,
   "id": "28095165",
   "metadata": {},
   "outputs": [],
   "source": []
  },
  {
   "cell_type": "code",
   "execution_count": null,
   "id": "12dae0fb",
   "metadata": {},
   "outputs": [],
   "source": []
  },
  {
   "cell_type": "code",
   "execution_count": null,
   "id": "2d02d47e",
   "metadata": {},
   "outputs": [],
   "source": [
    "int_range = widgets.IntSlider()\n",
    "output2 = widgets.Output()\n",
    "\n",
    "display(int_range, output2)\n",
    "\n",
    "def on_value_change(change):\n",
    "    with output2:\n",
    "        print(change.new)\n",
    "\n",
    "int_range.observe(on_value_change, names='value')\n",
    "\n"
   ]
  },
  {
   "cell_type": "code",
   "execution_count": 98,
   "id": "7b9d4c05",
   "metadata": {},
   "outputs": [
    {
     "data": {
      "application/vnd.jupyter.widget-view+json": {
       "model_id": "5fd75938838e40899959d469b1828f29",
       "version_major": 2,
       "version_minor": 0
      },
      "text/plain": [
       "TwoByTwoLayout(children=(Dropdown(index=8, layout=Layout(grid_area='top-left'), options=('Fabrice AMEDEO', 'Ro…"
      ]
     },
     "metadata": {},
     "output_type": "display_data"
    }
   ],
   "source": [
    "widgets.TwoByTwoLayout(top_left=skipper_select,\n",
    "               top_right=skipper_img_widg,\n",
    "               bottom_left=int_range,\n",
    "               bottom_right=output2)"
   ]
  },
  {
   "cell_type": "code",
   "execution_count": 53,
   "id": "365a35c8",
   "metadata": {},
   "outputs": [
    {
     "data": {
      "application/vnd.jupyter.widget-view+json": {
       "model_id": "f2f78ede8e7f4efbb2729e24caf28c3e",
       "version_major": 2,
       "version_minor": 0
      },
      "text/plain": [
       "Image(value=b'https://www.vendeeglobe.org/medias/05/03/50382/alex-thomson-c-462-560.jpg', format='url')"
      ]
     },
     "metadata": {},
     "output_type": "display_data"
    }
   ],
   "source": [
    "widgets.Image.from_url(df_boat.loc[30]['URL Photo Skipper'])"
   ]
  },
  {
   "cell_type": "code",
   "execution_count": 55,
   "id": "6cb81bc2",
   "metadata": {},
   "outputs": [
    {
     "data": {
      "text/plain": [
       "['__call__',\n",
       " '__class__',\n",
       " '__delattr__',\n",
       " '__dir__',\n",
       " '__doc__',\n",
       " '__eq__',\n",
       " '__format__',\n",
       " '__func__',\n",
       " '__ge__',\n",
       " '__get__',\n",
       " '__getattribute__',\n",
       " '__gt__',\n",
       " '__hash__',\n",
       " '__init__',\n",
       " '__init_subclass__',\n",
       " '__le__',\n",
       " '__lt__',\n",
       " '__ne__',\n",
       " '__new__',\n",
       " '__reduce__',\n",
       " '__reduce_ex__',\n",
       " '__repr__',\n",
       " '__self__',\n",
       " '__setattr__',\n",
       " '__sizeof__',\n",
       " '__str__',\n",
       " '__subclasshook__']"
      ]
     },
     "execution_count": 55,
     "metadata": {},
     "output_type": "execute_result"
    }
   ],
   "source": [
    "dir(widgets.Image.from_url)"
   ]
  },
  {
   "cell_type": "code",
   "execution_count": null,
   "id": "77fba3e4",
   "metadata": {},
   "outputs": [],
   "source": []
  },
  {
   "cell_type": "code",
   "execution_count": 50,
   "id": "e0057d15",
   "metadata": {},
   "outputs": [
    {
     "data": {
      "image/jpeg": "[encoded data removed]",
      "text/plain": [
       "<IPython.core.display.Image object>"
      ]
     },
     "metadata": {},
     "output_type": "display_data"
    },
    {
     "data": {
      "image/png": "[encoded data removed]",
      "text/plain": [
       "<IPython.core.display.Image object>"
      ]
     },
     "metadata": {},
     "output_type": "display_data"
    }
   ],
   "source": [
    "display(Image(df_boat.loc[30]['URL Photo Skipper']), Image(df_boat.loc[30]['URL Icône bateau']))"
   ]
  },
  {
   "cell_type": "markdown",
   "id": "9caf1cc1",
   "metadata": {},
   "source": [
    "### Display trajectoire monde IMOCA"
   ]
  },
  {
   "cell_type": "code",
   "execution_count": null,
   "id": "2ce82fbf",
   "metadata": {},
   "outputs": [],
   "source": []
  },
  {
   "cell_type": "code",
   "execution_count": null,
   "id": "04df6bc8",
   "metadata": {},
   "outputs": [
    {
     "name": "stdout",
     "output_type": "stream",
     "text": [
      "Avancement : 100 / 482\n",
      "Avancement : 200 / 482\n",
      "Avancement : 300 / 482\n",
      "Avancement : 400 / 482\n"
     ]
    }
   ],
   "source": [
    "list_xl_files = os.listdir('./'+DIR_XL)\n",
    "\n",
    "#sublist_xl = list_xl_files[100:400]\n",
    "sublist_xl = list_xl_files[:482]\n",
    "\n",
    "locations_test = np.zeros([len(sublist_xl),2])\n",
    "idx = 0\n",
    "\n",
    "for xl_file in sublist_xl:\n",
    "    #print(f'reading : {xl_file} ')\n",
    "    df_loc_test = pd.read_excel('./'+DIR_XL+xl_file, usecols='B,C,F:U', skiprows=5, skipfooter=4, header=None, names=col_names, converters=dico_conv)\n",
    "    df_loc_test.set_index('Numéro Voile', inplace=True)\n",
    "    locations_test[idx] = [df_loc_test.loc[59]['Latitude'], df_loc_test.loc[59]['Longitude']]\n",
    "    idx += 1\n",
    "    if idx%100 == 0:\n",
    "        print(f'Avancement : {idx} / {len(sublist_xl)}')\n",
    "\n"
   ]
  },
  {
   "cell_type": "code",
   "execution_count": null,
   "id": "d9b33548",
   "metadata": {},
   "outputs": [],
   "source": []
  },
  {
   "cell_type": "code",
   "execution_count": 263,
   "id": "ac889158",
   "metadata": {},
   "outputs": [
    {
     "data": {
      "application/vnd.jupyter.widget-view+json": {
       "model_id": "e4cfc84c57b54e7b9183d408cf9300c3",
       "version_major": 2,
       "version_minor": 0
      },
      "text/plain": [
       "Map(center=[0.0, 0.0], controls=(ZoomControl(options=['position', 'zoom_in_text', 'zoom_in_title', 'zoom_out_t…"
      ]
     },
     "metadata": {},
     "output_type": "display_data"
    }
   ],
   "source": [
    "import copy\n",
    "\n",
    "#center = (21.828669, -170.965253)\n",
    "center = (locations_test[150,0], locations_test[150,1])\n",
    "\n",
    "locations_test_modif = copy.deepcopy(locations_test)\n",
    "#locations_test_modif[locations_test_modif[:1]<0] += 180\n",
    "\n",
    "map_ant = Map(basemap=basemaps.Esri.NatGeoWorldMap, zoom=2, dragging=True, world_copy_jump=True)\n",
    "\n",
    "ant_path = AntPath(\n",
    "    locations=locations_test_modif.tolist(),\n",
    "    dash_array=[1, 20],\n",
    "    delay=200,\n",
    "    color='#030aa7',\n",
    "    pulse_color='#d7fffe',\n",
    "    weight=7\n",
    ")\n",
    "\n",
    "map_ant.add_layer(ant_path)\n",
    "\n",
    "map_ant"
   ]
  },
  {
   "cell_type": "code",
   "execution_count": null,
   "id": "4c227c30",
   "metadata": {},
   "outputs": [],
   "source": []
  },
  {
   "cell_type": "code",
   "execution_count": null,
   "id": "6bf9297e",
   "metadata": {},
   "outputs": [],
   "source": []
  },
  {
   "cell_type": "markdown",
   "id": "5bb16c06",
   "metadata": {},
   "source": [
    "## Refine XL creation"
   ]
  },
  {
   "cell_type": "code",
   "execution_count": null,
   "id": "4815d0da",
   "metadata": {},
   "outputs": [
    {
     "ename": "FileNotFoundError",
     "evalue": "[Errno 2] No such file or directory: 'test_excel//20201109_110000.xlsx'",
     "output_type": "error",
     "traceback": [
      "\u001b[1;31m---------------------------------------------------------------------------\u001b[0m\n",
      "\u001b[1;31mFileNotFoundError\u001b[0m                         Traceback (most recent call last)\n",
      "\u001b[1;32m~\\AppData\\Local\\Temp/ipykernel_22132/1653115386.py\u001b[0m in \u001b[0;36m<module>\u001b[1;34m\u001b[0m\n",
      "\u001b[0;32m      5\u001b[0m \u001b[0murl_xl\u001b[0m \u001b[1;33m=\u001b[0m \u001b[1;34m'https://www.vendeeglobe.org/download-race-data/vendeeglobe_'\u001b[0m\u001b[1;33m+\u001b[0m\u001b[0mtag_xl\u001b[0m\u001b[1;33m\u001b[0m\u001b[1;33m\u001b[0m\u001b[0m\n",
      "\u001b[0;32m      6\u001b[0m \u001b[0mr_xl\u001b[0m \u001b[1;33m=\u001b[0m \u001b[0mrequests\u001b[0m\u001b[1;33m.\u001b[0m\u001b[0mget\u001b[0m\u001b[1;33m(\u001b[0m\u001b[0murl_xl\u001b[0m\u001b[1;33m)\u001b[0m\u001b[1;33m\u001b[0m\u001b[1;33m\u001b[0m\u001b[0m\n",
      "\u001b[1;32m----> 7\u001b[1;33m \u001b[0mopen\u001b[0m\u001b[1;33m(\u001b[0m\u001b[0mDIR_XL\u001b[0m\u001b[1;33m+\u001b[0m\u001b[0mtag_xl\u001b[0m\u001b[1;33m,\u001b[0m \u001b[1;34m'wb'\u001b[0m\u001b[1;33m)\u001b[0m\u001b[1;33m.\u001b[0m\u001b[0mwrite\u001b[0m\u001b[1;33m(\u001b[0m\u001b[0mr_xl\u001b[0m\u001b[1;33m.\u001b[0m\u001b[0mcontent\u001b[0m\u001b[1;33m)\u001b[0m\u001b[1;33m\u001b[0m\u001b[1;33m\u001b[0m\u001b[0m\n",
      "\u001b[0m\u001b[0;32m      8\u001b[0m \u001b[0mexcel_book\u001b[0m \u001b[1;33m=\u001b[0m \u001b[0mexcel_app\u001b[0m\u001b[1;33m.\u001b[0m\u001b[0mbooks\u001b[0m\u001b[1;33m.\u001b[0m\u001b[0mopen\u001b[0m\u001b[1;33m(\u001b[0m\u001b[0mDIR_XL\u001b[0m\u001b[1;33m+\u001b[0m\u001b[0mtag_xl\u001b[0m\u001b[1;33m)\u001b[0m\u001b[1;33m\u001b[0m\u001b[1;33m\u001b[0m\u001b[0m\n",
      "\u001b[0;32m      9\u001b[0m \u001b[0mexcel_book\u001b[0m\u001b[1;33m.\u001b[0m\u001b[0msave\u001b[0m\u001b[1;33m(\u001b[0m\u001b[1;33m)\u001b[0m\u001b[1;33m\u001b[0m\u001b[1;33m\u001b[0m\u001b[0m\n",
      "\n",
      "\u001b[1;31mFileNotFoundError\u001b[0m: [Errno 2] No such file or directory: 'test_excel//20201109_110000.xlsx'"
     ]
    }
   ],
   "source": [
    "DIR_XL = 'dir_excel'\n",
    "DIR_XL in os.listdir()\n",
    "\n",
    "tag_xl = '20201109_110000.xlsx'\n",
    "\n",
    "excel_app = xw.App(visible=False)\n",
    "\n",
    "url_xl = 'https://www.vendeeglobe.org/download-race-data/vendeeglobe_'+tag_xl\n",
    "r_xl = requests.get(url_xl)\n",
    "open(DIR_XL+tag_xl, 'wb').write(r_xl.content)\n",
    "excel_book = excel_app.books.open(DIR_XL+tag_xl)\n",
    "excel_book.save()\n",
    "excel_book.close()\n",
    "\n",
    "excel_app.quit()"
   ]
  },
  {
   "cell_type": "code",
   "execution_count": null,
   "id": "e578e999",
   "metadata": {},
   "outputs": [],
   "source": []
  },
  {
   "cell_type": "code",
   "execution_count": null,
   "id": "9c7d82f0",
   "metadata": {},
   "outputs": [],
   "source": []
  },
  {
   "cell_type": "code",
   "execution_count": null,
   "id": "39582984",
   "metadata": {},
   "outputs": [],
   "source": []
  },
  {
   "cell_type": "code",
   "execution_count": null,
   "id": "ca388492",
   "metadata": {},
   "outputs": [],
   "source": []
  },
  {
   "cell_type": "code",
   "execution_count": null,
   "id": "c3953bd9",
   "metadata": {},
   "outputs": [],
   "source": []
  },
  {
   "cell_type": "markdown",
   "id": "c285292e",
   "metadata": {},
   "source": [
    "url_test = df_boat.loc[25]['url_skipper']\n",
    "\n",
    "\n",
    "res_skipper = requests.get(url_test)\n",
    "soup_skipper = BeautifulSoup(res_skipper.content, 'html.parser')\n",
    "\n",
    "\n",
    "skipper_nat = soup_skipper.find(class_=\"skipper-datalist__item m--nationality\").find(class_=\"skipper-datalist__value__text\").text\n",
    "print(f'Nationalité : {skipper_nat}')\n",
    "\n",
    "skipper_age = soup_skipper.find(class_=\"icon icon-calendar\").find_parent(\"p\").find(class_=\"skipper-datalist__value__text\").text.split()[0]\n",
    "print(f'Age : {skipper_age}')\n",
    "\n",
    "skipper_particip = soup_skipper.find(class_=\"skipper-participation__number\").find(\"span\").text\n",
    "print(f'Nb. participations : {skipper_particip}')\n",
    "\n",
    "palma_an = '2018'\n",
    "skipper_palmares = soup_skipper.find(class_='prizes-slider__year',text=palma_an).find_parent('div').find(class_='prizes-slider__list l-unlist').text.split('\\r\\n')\n",
    "print(f'Palmares {palma_an} : {len(skipper_palmares)-1} trophées - {skipper_palmares}')\n",
    "\n",
    "skipper_all_palmares = soup_skipper.find_all(class_='prizes-slider__year')\n",
    "\n",
    "cpt_palma = 0\n",
    "for year in skipper_all_palmares:\n",
    "    list_palma_y = year.find_parent('div').find(class_='prizes-slider__list l-unlist').text.split('\\r\\n')\n",
    "    cpt_palma += len(list_palma_y) - 1\n",
    "\n",
    "print(f'Palmares total : {cpt_palma} trophées')\n",
    "\n",
    "\n",
    "\n",
    "url_img_skipper = soup_skipper.find(class_='skipper-hero__figure__img svg-filter').image['xlink:href']\n",
    "print(f'URL image skipper : {url_img_skipper}')\n"
   ]
  }
 ],
 "metadata": {
  "interpreter": {
   "hash": "97ae724bfa85b9b34df7982b8bb8c7216f435b92902d749e4263f71162bea840"
  },
  "kernelspec": {
   "display_name": "Python 3 (ipykernel)",
   "language": "python",
   "name": "python3"
  },
  "language_info": {
   "codemirror_mode": {
    "name": "ipython",
    "version": 3
   },
   "file_extension": ".py",
   "mimetype": "text/x-python",
   "name": "python",
   "nbconvert_exporter": "python",
   "pygments_lexer": "ipython3",
   "version": "3.8.11"
  }
 },
 "nbformat": 4,
 "nbformat_minor": 5
}
